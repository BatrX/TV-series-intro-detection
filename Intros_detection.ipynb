{
 "cells": [
  {
   "cell_type": "code",
   "execution_count": 39,
   "id": "a3d87079",
   "metadata": {},
   "outputs": [],
   "source": [
    "import pandas as pd\n",
    "import json\n",
    "import datetime\n",
    "import seaborn as sns\n",
    "import matplotlib.pyplot as plt\n",
    "import numpy as np\n",
    "import torch\n",
    "from transformers import CLIPProcessor, CLIPModel\n",
    "from PIL import Image\n",
    "import cv2\n",
    "import os\n",
    "from tqdm import tqdm\n",
    "\n",
    "from torch.utils.data import Dataset\n",
    "from torch.utils.data import DataLoader\n",
    "import torch.nn as nn\n",
    "\n",
    "device = \"cuda\" if torch.cuda.is_available() else \"cpu\"\n"
   ]
  },
  {
   "cell_type": "markdown",
   "id": "6f95a59f",
   "metadata": {},
   "source": [
    "# Обработка исходных датасетов"
   ]
  },
  {
   "cell_type": "code",
   "execution_count": 40,
   "id": "45b17178",
   "metadata": {},
   "outputs": [],
   "source": [
    "with open('labels_json/train_labels.json', 'r', encoding='utf-8') as f:\n",
    "    train_data = json.load(f)\n",
    "    \n",
    "train_df = pd.DataFrame.from_dict(train_data, orient='index').reset_index()\n",
    "train_df.rename(columns={\"index\": \"video_id\"}, inplace=True)"
   ]
  },
  {
   "cell_type": "code",
   "execution_count": 41,
   "id": "36c5b096",
   "metadata": {},
   "outputs": [],
   "source": [
    "with open('labels_json/test_labels.json', 'r', encoding='utf-8') as f:\n",
    "    test_data = json.load(f)\n",
    "\n",
    "test_df = pd.DataFrame.from_dict(test_data, orient='index').reset_index()\n",
    "test_df.rename(columns={\"index\": \"video_id\"}, inplace=True)"
   ]
  },
  {
   "cell_type": "code",
   "execution_count": 42,
   "id": "5218ae3c",
   "metadata": {},
   "outputs": [
    {
     "data": {
      "text/html": [
       "<div>\n",
       "<style scoped>\n",
       "    .dataframe tbody tr th:only-of-type {\n",
       "        vertical-align: middle;\n",
       "    }\n",
       "\n",
       "    .dataframe tbody tr th {\n",
       "        vertical-align: top;\n",
       "    }\n",
       "\n",
       "    .dataframe thead th {\n",
       "        text-align: right;\n",
       "    }\n",
       "</style>\n",
       "<table border=\"1\" class=\"dataframe\">\n",
       "  <thead>\n",
       "    <tr style=\"text-align: right;\">\n",
       "      <th></th>\n",
       "      <th>video_id</th>\n",
       "      <th>url</th>\n",
       "      <th>name</th>\n",
       "      <th>start</th>\n",
       "      <th>end</th>\n",
       "    </tr>\n",
       "  </thead>\n",
       "  <tbody>\n",
       "    <tr>\n",
       "      <th>0</th>\n",
       "      <td>-220020068_456255414</td>\n",
       "      <td>https://vkvideo.ru/video-220020068_456255414</td>\n",
       "      <td>Баскетс. 4 сезон, 7 серия</td>\n",
       "      <td>0:01:42</td>\n",
       "      <td>0:01:47</td>\n",
       "    </tr>\n",
       "    <tr>\n",
       "      <th>1</th>\n",
       "      <td>-220020068_456249693</td>\n",
       "      <td>https://vkvideo.ru/video-220020068_456249693</td>\n",
       "      <td>Бывaeт и xyжe. 1 сезон, 14 серия</td>\n",
       "      <td>0:00:06</td>\n",
       "      <td>0:00:10</td>\n",
       "    </tr>\n",
       "    <tr>\n",
       "      <th>2</th>\n",
       "      <td>-220020068_456255339</td>\n",
       "      <td>https://vkvideo.ru/video-220020068_456255339</td>\n",
       "      <td>Анатомия скандала. 1 сезон. 2 серия.</td>\n",
       "      <td>0:00:10</td>\n",
       "      <td>0:00:20</td>\n",
       "    </tr>\n",
       "    <tr>\n",
       "      <th>3</th>\n",
       "      <td>-220020068_456241755</td>\n",
       "      <td>https://vkvideo.ru/video-220020068_456241755</td>\n",
       "      <td>Блеск. 2 сезон, 2 серия</td>\n",
       "      <td>0:03:08</td>\n",
       "      <td>0:03:12</td>\n",
       "    </tr>\n",
       "    <tr>\n",
       "      <th>4</th>\n",
       "      <td>-220020068_456241671</td>\n",
       "      <td>https://vkvideo.ru/video-220020068_456241671</td>\n",
       "      <td>Амepикaнcкий вaндaл. 1 сезон, 3 серия</td>\n",
       "      <td>0:03:47</td>\n",
       "      <td>0:03:10</td>\n",
       "    </tr>\n",
       "  </tbody>\n",
       "</table>\n",
       "</div>"
      ],
      "text/plain": [
       "               video_id                                           url  \\\n",
       "0  -220020068_456255414  https://vkvideo.ru/video-220020068_456255414   \n",
       "1  -220020068_456249693  https://vkvideo.ru/video-220020068_456249693   \n",
       "2  -220020068_456255339  https://vkvideo.ru/video-220020068_456255339   \n",
       "3  -220020068_456241755  https://vkvideo.ru/video-220020068_456241755   \n",
       "4  -220020068_456241671  https://vkvideo.ru/video-220020068_456241671   \n",
       "\n",
       "                                    name    start      end  \n",
       "0              Баскетс. 4 сезон, 7 серия  0:01:42  0:01:47  \n",
       "1       Бывaeт и xyжe. 1 сезон, 14 серия  0:00:06  0:00:10  \n",
       "2   Анатомия скандала. 1 сезон. 2 серия.  0:00:10  0:00:20  \n",
       "3                Блеск. 2 сезон, 2 серия  0:03:08  0:03:12  \n",
       "4  Амepикaнcкий вaндaл. 1 сезон, 3 серия  0:03:47  0:03:10  "
      ]
     },
     "execution_count": 42,
     "metadata": {},
     "output_type": "execute_result"
    }
   ],
   "source": [
    "train_df.head()\n"
   ]
  },
  {
   "cell_type": "code",
   "execution_count": 43,
   "id": "6f63d162",
   "metadata": {},
   "outputs": [
    {
     "data": {
      "text/html": [
       "<div>\n",
       "<style scoped>\n",
       "    .dataframe tbody tr th:only-of-type {\n",
       "        vertical-align: middle;\n",
       "    }\n",
       "\n",
       "    .dataframe tbody tr th {\n",
       "        vertical-align: top;\n",
       "    }\n",
       "\n",
       "    .dataframe thead th {\n",
       "        text-align: right;\n",
       "    }\n",
       "</style>\n",
       "<table border=\"1\" class=\"dataframe\">\n",
       "  <thead>\n",
       "    <tr style=\"text-align: right;\">\n",
       "      <th></th>\n",
       "      <th>video_id</th>\n",
       "      <th>url</th>\n",
       "      <th>name</th>\n",
       "      <th>start</th>\n",
       "      <th>end</th>\n",
       "    </tr>\n",
       "  </thead>\n",
       "  <tbody>\n",
       "    <tr>\n",
       "      <th>0</th>\n",
       "      <td>-220020068_456249220</td>\n",
       "      <td>https://vkvideo.ru/video-220020068_456249220</td>\n",
       "      <td>24 часа. 2 сезон, 16 серия</td>\n",
       "      <td>0:00:05</td>\n",
       "      <td>0:00:16</td>\n",
       "    </tr>\n",
       "    <tr>\n",
       "      <th>1</th>\n",
       "      <td>-220020068_456249373</td>\n",
       "      <td>https://vkvideo.ru/video-220020068_456249373</td>\n",
       "      <td>24 часа. 8 сезон, 18 серия</td>\n",
       "      <td>0:00:05</td>\n",
       "      <td>0:00:16</td>\n",
       "    </tr>\n",
       "    <tr>\n",
       "      <th>2</th>\n",
       "      <td>-220020068_456249231</td>\n",
       "      <td>https://vkvideo.ru/video-220020068_456249231</td>\n",
       "      <td>24 часа. 3 сезон, 1 серия</td>\n",
       "      <td>0:00:05</td>\n",
       "      <td>0:00:16</td>\n",
       "    </tr>\n",
       "    <tr>\n",
       "      <th>3</th>\n",
       "      <td>-220020068_456255339</td>\n",
       "      <td>https://vkvideo.ru/video-220020068_456255339</td>\n",
       "      <td>Анатомия скандала. 1 сезон. 2 серия.</td>\n",
       "      <td>0:00:10</td>\n",
       "      <td>0:00:20</td>\n",
       "    </tr>\n",
       "    <tr>\n",
       "      <th>4</th>\n",
       "      <td>-220020068_456249284</td>\n",
       "      <td>https://vkvideo.ru/video-220020068_456249284</td>\n",
       "      <td>24 часа. 5 сезон, 4 серия</td>\n",
       "      <td>0:00:05</td>\n",
       "      <td>0:00:16</td>\n",
       "    </tr>\n",
       "  </tbody>\n",
       "</table>\n",
       "</div>"
      ],
      "text/plain": [
       "               video_id                                           url  \\\n",
       "0  -220020068_456249220  https://vkvideo.ru/video-220020068_456249220   \n",
       "1  -220020068_456249373  https://vkvideo.ru/video-220020068_456249373   \n",
       "2  -220020068_456249231  https://vkvideo.ru/video-220020068_456249231   \n",
       "3  -220020068_456255339  https://vkvideo.ru/video-220020068_456255339   \n",
       "4  -220020068_456249284  https://vkvideo.ru/video-220020068_456249284   \n",
       "\n",
       "                                   name    start      end  \n",
       "0            24 часа. 2 сезон, 16 серия  0:00:05  0:00:16  \n",
       "1            24 часа. 8 сезон, 18 серия  0:00:05  0:00:16  \n",
       "2             24 часа. 3 сезон, 1 серия  0:00:05  0:00:16  \n",
       "3  Анатомия скандала. 1 сезон. 2 серия.  0:00:10  0:00:20  \n",
       "4             24 часа. 5 сезон, 4 серия  0:00:05  0:00:16  "
      ]
     },
     "execution_count": 43,
     "metadata": {},
     "output_type": "execute_result"
    }
   ],
   "source": [
    "test_df.head()"
   ]
  },
  {
   "cell_type": "code",
   "execution_count": 44,
   "id": "01b70c11",
   "metadata": {},
   "outputs": [
    {
     "name": "stdout",
     "output_type": "stream",
     "text": [
      "80\n",
      "45\n"
     ]
    }
   ],
   "source": [
    "print(len(train_df))\n",
    "print(len(test_df))"
   ]
  },
  {
   "cell_type": "code",
   "execution_count": 45,
   "id": "731e0e97",
   "metadata": {},
   "outputs": [],
   "source": [
    "def time_to_seconds(t):\n",
    "    x = datetime.datetime.strptime(t, '%H:%M:%S')\n",
    "    return x.hour * 3600 + x.minute * 60 + x.second\n",
    "\n",
    "train_df[\"start_sec\"] = train_df[\"start\"].apply(time_to_seconds)\n",
    "train_df[\"end_sec\"] = train_df[\"end\"].apply(time_to_seconds)\n",
    "\n",
    "\n",
    "test_df[\"start_sec\"] = test_df[\"start\"].apply(time_to_seconds)\n",
    "test_df[\"end_sec\"] = test_df[\"end\"].apply(time_to_seconds)"
   ]
  },
  {
   "cell_type": "markdown",
   "id": "95c9c21e",
   "metadata": {},
   "source": [
    "По какой-то причине у некоторых семплов момент начала заставки идет после времени ее конца. Но я заметил, что в большинстве случаев это связано с тем, что время начала отличается от фактического на 1 минуту (я проверял, просматривая эти сериалы, ахаха). Но для сериалов \"Агенство локвуд\" и \"Благие Знамения\" эта тенденция не сохранялась, поэтому я их убрал из датасета (благо их было по одному эпизоду). Остальные семплы я отредактировал, умньшив время начала на 1 минуту"
   ]
  },
  {
   "cell_type": "code",
   "execution_count": 46,
   "id": "ff6b294f",
   "metadata": {},
   "outputs": [
    {
     "data": {
      "text/html": [
       "<div>\n",
       "<style scoped>\n",
       "    .dataframe tbody tr th:only-of-type {\n",
       "        vertical-align: middle;\n",
       "    }\n",
       "\n",
       "    .dataframe tbody tr th {\n",
       "        vertical-align: top;\n",
       "    }\n",
       "\n",
       "    .dataframe thead th {\n",
       "        text-align: right;\n",
       "    }\n",
       "</style>\n",
       "<table border=\"1\" class=\"dataframe\">\n",
       "  <thead>\n",
       "    <tr style=\"text-align: right;\">\n",
       "      <th></th>\n",
       "      <th>video_id</th>\n",
       "      <th>url</th>\n",
       "      <th>name</th>\n",
       "      <th>start</th>\n",
       "      <th>end</th>\n",
       "      <th>start_sec</th>\n",
       "      <th>end_sec</th>\n",
       "    </tr>\n",
       "  </thead>\n",
       "  <tbody>\n",
       "    <tr>\n",
       "      <th>4</th>\n",
       "      <td>-220020068_456241671</td>\n",
       "      <td>https://vkvideo.ru/video-220020068_456241671</td>\n",
       "      <td>Амepикaнcкий вaндaл. 1 сезон, 3 серия</td>\n",
       "      <td>0:03:47</td>\n",
       "      <td>0:03:10</td>\n",
       "      <td>227</td>\n",
       "      <td>190</td>\n",
       "    </tr>\n",
       "    <tr>\n",
       "      <th>9</th>\n",
       "      <td>-220020068_456255332</td>\n",
       "      <td>https://vkvideo.ru/video-220020068_456255332</td>\n",
       "      <td>Агентство Локвуд и компания. 1 сезон. 3 серия.</td>\n",
       "      <td>0:02:57</td>\n",
       "      <td>0:02:25</td>\n",
       "      <td>177</td>\n",
       "      <td>145</td>\n",
       "    </tr>\n",
       "    <tr>\n",
       "      <th>10</th>\n",
       "      <td>-220020068_456241672</td>\n",
       "      <td>https://vkvideo.ru/video-220020068_456241672</td>\n",
       "      <td>Амepикaнcкий вaндaл. 1 сезон, 4 серия</td>\n",
       "      <td>0:03:51</td>\n",
       "      <td>0:03:15</td>\n",
       "      <td>231</td>\n",
       "      <td>195</td>\n",
       "    </tr>\n",
       "    <tr>\n",
       "      <th>12</th>\n",
       "      <td>-220020068_456256475</td>\n",
       "      <td>https://vkvideo.ru/video-220020068_456256475</td>\n",
       "      <td>Бойцовская ночь: Афера на миллион. 1 сезон, 5 ...</td>\n",
       "      <td>0:10:42</td>\n",
       "      <td>0:10:25</td>\n",
       "      <td>642</td>\n",
       "      <td>625</td>\n",
       "    </tr>\n",
       "    <tr>\n",
       "      <th>14</th>\n",
       "      <td>-220020068_456248657</td>\n",
       "      <td>https://vkvideo.ru/video-220020068_456248657</td>\n",
       "      <td>Бeвepли-Xиллз 90210. 5 сезон, 4 серия</td>\n",
       "      <td>0:02:30</td>\n",
       "      <td>0:02:29</td>\n",
       "      <td>150</td>\n",
       "      <td>149</td>\n",
       "    </tr>\n",
       "    <tr>\n",
       "      <th>15</th>\n",
       "      <td>-220020068_456241673</td>\n",
       "      <td>https://vkvideo.ru/video-220020068_456241673</td>\n",
       "      <td>Амepикaнcкий вaндaл. 1 сезон, 5 серия</td>\n",
       "      <td>0:02:52</td>\n",
       "      <td>0:02:17</td>\n",
       "      <td>172</td>\n",
       "      <td>137</td>\n",
       "    </tr>\n",
       "    <tr>\n",
       "      <th>18</th>\n",
       "      <td>-220020068_456254621</td>\n",
       "      <td>https://vkvideo.ru/video-220020068_456254621</td>\n",
       "      <td>Берлин. 8 серия (финал)</td>\n",
       "      <td>0:07:39</td>\n",
       "      <td>0:07:22</td>\n",
       "      <td>459</td>\n",
       "      <td>442</td>\n",
       "    </tr>\n",
       "    <tr>\n",
       "      <th>19</th>\n",
       "      <td>-220020068_456241758</td>\n",
       "      <td>https://vkvideo.ru/video-220020068_456241758</td>\n",
       "      <td>Блеск. 2 сезон, 5 серия</td>\n",
       "      <td>0:01:58</td>\n",
       "      <td>0:01:02</td>\n",
       "      <td>118</td>\n",
       "      <td>62</td>\n",
       "    </tr>\n",
       "    <tr>\n",
       "      <th>20</th>\n",
       "      <td>-220020068_456252055</td>\n",
       "      <td>https://vkvideo.ru/video-220020068_456252055</td>\n",
       "      <td>Блaгиe знaмeния. 1 сезон, 2 серия</td>\n",
       "      <td>0:07:40</td>\n",
       "      <td>0:00:11</td>\n",
       "      <td>460</td>\n",
       "      <td>11</td>\n",
       "    </tr>\n",
       "    <tr>\n",
       "      <th>27</th>\n",
       "      <td>-220020068_456241851</td>\n",
       "      <td>https://vkvideo.ru/video-220020068_456241851</td>\n",
       "      <td>Блеск. 1 сезон, 10 серия</td>\n",
       "      <td>0:01:05</td>\n",
       "      <td>0:00:15</td>\n",
       "      <td>65</td>\n",
       "      <td>15</td>\n",
       "    </tr>\n",
       "    <tr>\n",
       "      <th>28</th>\n",
       "      <td>-220020068_456256571</td>\n",
       "      <td>https://vkvideo.ru/video-220020068_456256571</td>\n",
       "      <td>Бойцовская ночь: Афера на миллион. 1 сезон, 8 ...</td>\n",
       "      <td>0:04:43</td>\n",
       "      <td>0:04:26</td>\n",
       "      <td>283</td>\n",
       "      <td>266</td>\n",
       "    </tr>\n",
       "    <tr>\n",
       "      <th>31</th>\n",
       "      <td>-220020068_456255344</td>\n",
       "      <td>https://vkvideo.ru/video-220020068_456255344</td>\n",
       "      <td>Архив 81. 1 сезон. 1 серия.</td>\n",
       "      <td>0:01:53</td>\n",
       "      <td>0:01:27</td>\n",
       "      <td>113</td>\n",
       "      <td>87</td>\n",
       "    </tr>\n",
       "    <tr>\n",
       "      <th>37</th>\n",
       "      <td>-220020068_456255346</td>\n",
       "      <td>https://vkvideo.ru/video-220020068_456255346</td>\n",
       "      <td>Архив 81. 1 сезон. 3 серия.</td>\n",
       "      <td>0:01:51</td>\n",
       "      <td>0:01:26</td>\n",
       "      <td>111</td>\n",
       "      <td>86</td>\n",
       "    </tr>\n",
       "    <tr>\n",
       "      <th>45</th>\n",
       "      <td>-220020068_456255767</td>\n",
       "      <td>https://vkvideo.ru/video-220020068_456255767</td>\n",
       "      <td>Бодкин. 1 сезон, 3 серия</td>\n",
       "      <td>0:01:58</td>\n",
       "      <td>0:01:08</td>\n",
       "      <td>118</td>\n",
       "      <td>68</td>\n",
       "    </tr>\n",
       "    <tr>\n",
       "      <th>47</th>\n",
       "      <td>-220020068_456255394</td>\n",
       "      <td>https://vkvideo.ru/video-220020068_456255394</td>\n",
       "      <td>Баскетс. 2 сезон, 4 серия</td>\n",
       "      <td>0:01:50</td>\n",
       "      <td>0:01:00</td>\n",
       "      <td>110</td>\n",
       "      <td>60</td>\n",
       "    </tr>\n",
       "    <tr>\n",
       "      <th>49</th>\n",
       "      <td>-220020068_456257137</td>\n",
       "      <td>https://vkvideo.ru/video-220020068_456257137</td>\n",
       "      <td>Белые линии. 1 сезон. 8 серия.</td>\n",
       "      <td>0:02:53</td>\n",
       "      <td>0:02:00</td>\n",
       "      <td>173</td>\n",
       "      <td>120</td>\n",
       "    </tr>\n",
       "    <tr>\n",
       "      <th>54</th>\n",
       "      <td>-220020068_456255349</td>\n",
       "      <td>https://vkvideo.ru/video-220020068_456255349</td>\n",
       "      <td>Архив 81. 1 сезон. 6 серия.</td>\n",
       "      <td>0:02:37</td>\n",
       "      <td>0:02:11</td>\n",
       "      <td>157</td>\n",
       "      <td>131</td>\n",
       "    </tr>\n",
       "    <tr>\n",
       "      <th>59</th>\n",
       "      <td>-220020068_456241682</td>\n",
       "      <td>https://vkvideo.ru/video-220020068_456241682</td>\n",
       "      <td>Амepикaнcкий вaндaл. 2 сезон, 6 серия</td>\n",
       "      <td>0:02:35</td>\n",
       "      <td>0:02:11</td>\n",
       "      <td>155</td>\n",
       "      <td>131</td>\n",
       "    </tr>\n",
       "    <tr>\n",
       "      <th>62</th>\n",
       "      <td>-220020068_456254614</td>\n",
       "      <td>https://vkvideo.ru/video-220020068_456254614</td>\n",
       "      <td>Берлин. 1 серия</td>\n",
       "      <td>0:08:39</td>\n",
       "      <td>0:08:22</td>\n",
       "      <td>519</td>\n",
       "      <td>502</td>\n",
       "    </tr>\n",
       "    <tr>\n",
       "      <th>63</th>\n",
       "      <td>-220020068_456241849</td>\n",
       "      <td>https://vkvideo.ru/video-220020068_456241849</td>\n",
       "      <td>Блеск. 1 сезон, 8 серия</td>\n",
       "      <td>0:03:59</td>\n",
       "      <td>0:03:03</td>\n",
       "      <td>239</td>\n",
       "      <td>183</td>\n",
       "    </tr>\n",
       "    <tr>\n",
       "      <th>66</th>\n",
       "      <td>-220020068_456253855</td>\n",
       "      <td>https://vkvideo.ru/video-220020068_456253855</td>\n",
       "      <td>Американские Истории Ужасов. 3 сезон, 2 серия</td>\n",
       "      <td>0:08:31</td>\n",
       "      <td>0:08:12</td>\n",
       "      <td>511</td>\n",
       "      <td>492</td>\n",
       "    </tr>\n",
       "    <tr>\n",
       "      <th>69</th>\n",
       "      <td>-220020068_456253876</td>\n",
       "      <td>https://vkvideo.ru/video-220020068_456253876</td>\n",
       "      <td>Американские Истории Ужасов. 3 сезон, 4 серия</td>\n",
       "      <td>0:12:48</td>\n",
       "      <td>0:12:29</td>\n",
       "      <td>768</td>\n",
       "      <td>749</td>\n",
       "    </tr>\n",
       "    <tr>\n",
       "      <th>70</th>\n",
       "      <td>-220020068_456256430</td>\n",
       "      <td>https://vkvideo.ru/video-220020068_456256430</td>\n",
       "      <td>Бойцовская ночь: Афера на миллион. 1 сезон, 1 ...</td>\n",
       "      <td>0:07:33</td>\n",
       "      <td>0:07:18</td>\n",
       "      <td>453</td>\n",
       "      <td>438</td>\n",
       "    </tr>\n",
       "    <tr>\n",
       "      <th>77</th>\n",
       "      <td>-220020068_456256446</td>\n",
       "      <td>https://vkvideo.ru/video-220020068_456256446</td>\n",
       "      <td>Бойцовская ночь: Афера на миллион. 1 сезон, 4 ...</td>\n",
       "      <td>0:05:41</td>\n",
       "      <td>0:05:25</td>\n",
       "      <td>341</td>\n",
       "      <td>325</td>\n",
       "    </tr>\n",
       "  </tbody>\n",
       "</table>\n",
       "</div>"
      ],
      "text/plain": [
       "                video_id                                           url  \\\n",
       "4   -220020068_456241671  https://vkvideo.ru/video-220020068_456241671   \n",
       "9   -220020068_456255332  https://vkvideo.ru/video-220020068_456255332   \n",
       "10  -220020068_456241672  https://vkvideo.ru/video-220020068_456241672   \n",
       "12  -220020068_456256475  https://vkvideo.ru/video-220020068_456256475   \n",
       "14  -220020068_456248657  https://vkvideo.ru/video-220020068_456248657   \n",
       "15  -220020068_456241673  https://vkvideo.ru/video-220020068_456241673   \n",
       "18  -220020068_456254621  https://vkvideo.ru/video-220020068_456254621   \n",
       "19  -220020068_456241758  https://vkvideo.ru/video-220020068_456241758   \n",
       "20  -220020068_456252055  https://vkvideo.ru/video-220020068_456252055   \n",
       "27  -220020068_456241851  https://vkvideo.ru/video-220020068_456241851   \n",
       "28  -220020068_456256571  https://vkvideo.ru/video-220020068_456256571   \n",
       "31  -220020068_456255344  https://vkvideo.ru/video-220020068_456255344   \n",
       "37  -220020068_456255346  https://vkvideo.ru/video-220020068_456255346   \n",
       "45  -220020068_456255767  https://vkvideo.ru/video-220020068_456255767   \n",
       "47  -220020068_456255394  https://vkvideo.ru/video-220020068_456255394   \n",
       "49  -220020068_456257137  https://vkvideo.ru/video-220020068_456257137   \n",
       "54  -220020068_456255349  https://vkvideo.ru/video-220020068_456255349   \n",
       "59  -220020068_456241682  https://vkvideo.ru/video-220020068_456241682   \n",
       "62  -220020068_456254614  https://vkvideo.ru/video-220020068_456254614   \n",
       "63  -220020068_456241849  https://vkvideo.ru/video-220020068_456241849   \n",
       "66  -220020068_456253855  https://vkvideo.ru/video-220020068_456253855   \n",
       "69  -220020068_456253876  https://vkvideo.ru/video-220020068_456253876   \n",
       "70  -220020068_456256430  https://vkvideo.ru/video-220020068_456256430   \n",
       "77  -220020068_456256446  https://vkvideo.ru/video-220020068_456256446   \n",
       "\n",
       "                                                 name    start      end  \\\n",
       "4               Амepикaнcкий вaндaл. 1 сезон, 3 серия  0:03:47  0:03:10   \n",
       "9      Агентство Локвуд и компания. 1 сезон. 3 серия.  0:02:57  0:02:25   \n",
       "10              Амepикaнcкий вaндaл. 1 сезон, 4 серия  0:03:51  0:03:15   \n",
       "12  Бойцовская ночь: Афера на миллион. 1 сезон, 5 ...  0:10:42  0:10:25   \n",
       "14              Бeвepли-Xиллз 90210. 5 сезон, 4 серия  0:02:30  0:02:29   \n",
       "15              Амepикaнcкий вaндaл. 1 сезон, 5 серия  0:02:52  0:02:17   \n",
       "18                            Берлин. 8 серия (финал)  0:07:39  0:07:22   \n",
       "19                            Блеск. 2 сезон, 5 серия  0:01:58  0:01:02   \n",
       "20                  Блaгиe знaмeния. 1 сезон, 2 серия  0:07:40  0:00:11   \n",
       "27                           Блеск. 1 сезон, 10 серия  0:01:05  0:00:15   \n",
       "28  Бойцовская ночь: Афера на миллион. 1 сезон, 8 ...  0:04:43  0:04:26   \n",
       "31                        Архив 81. 1 сезон. 1 серия.  0:01:53  0:01:27   \n",
       "37                        Архив 81. 1 сезон. 3 серия.  0:01:51  0:01:26   \n",
       "45                           Бодкин. 1 сезон, 3 серия  0:01:58  0:01:08   \n",
       "47                          Баскетс. 2 сезон, 4 серия  0:01:50  0:01:00   \n",
       "49                     Белые линии. 1 сезон. 8 серия.  0:02:53  0:02:00   \n",
       "54                        Архив 81. 1 сезон. 6 серия.  0:02:37  0:02:11   \n",
       "59              Амepикaнcкий вaндaл. 2 сезон, 6 серия  0:02:35  0:02:11   \n",
       "62                                    Берлин. 1 серия  0:08:39  0:08:22   \n",
       "63                            Блеск. 1 сезон, 8 серия  0:03:59  0:03:03   \n",
       "66      Американские Истории Ужасов. 3 сезон, 2 серия  0:08:31  0:08:12   \n",
       "69      Американские Истории Ужасов. 3 сезон, 4 серия  0:12:48  0:12:29   \n",
       "70  Бойцовская ночь: Афера на миллион. 1 сезон, 1 ...  0:07:33  0:07:18   \n",
       "77  Бойцовская ночь: Афера на миллион. 1 сезон, 4 ...  0:05:41  0:05:25   \n",
       "\n",
       "    start_sec  end_sec  \n",
       "4         227      190  \n",
       "9         177      145  \n",
       "10        231      195  \n",
       "12        642      625  \n",
       "14        150      149  \n",
       "15        172      137  \n",
       "18        459      442  \n",
       "19        118       62  \n",
       "20        460       11  \n",
       "27         65       15  \n",
       "28        283      266  \n",
       "31        113       87  \n",
       "37        111       86  \n",
       "45        118       68  \n",
       "47        110       60  \n",
       "49        173      120  \n",
       "54        157      131  \n",
       "59        155      131  \n",
       "62        519      502  \n",
       "63        239      183  \n",
       "66        511      492  \n",
       "69        768      749  \n",
       "70        453      438  \n",
       "77        341      325  "
      ]
     },
     "execution_count": 46,
     "metadata": {},
     "output_type": "execute_result"
    }
   ],
   "source": [
    "train_df[train_df[\"start_sec\"] > train_df[\"end_sec\"]]"
   ]
  },
  {
   "cell_type": "code",
   "execution_count": 47,
   "id": "21540393",
   "metadata": {},
   "outputs": [
    {
     "data": {
      "text/html": [
       "<div>\n",
       "<style scoped>\n",
       "    .dataframe tbody tr th:only-of-type {\n",
       "        vertical-align: middle;\n",
       "    }\n",
       "\n",
       "    .dataframe tbody tr th {\n",
       "        vertical-align: top;\n",
       "    }\n",
       "\n",
       "    .dataframe thead th {\n",
       "        text-align: right;\n",
       "    }\n",
       "</style>\n",
       "<table border=\"1\" class=\"dataframe\">\n",
       "  <thead>\n",
       "    <tr style=\"text-align: right;\">\n",
       "      <th></th>\n",
       "      <th>video_id</th>\n",
       "      <th>url</th>\n",
       "      <th>name</th>\n",
       "      <th>start</th>\n",
       "      <th>end</th>\n",
       "      <th>start_sec</th>\n",
       "      <th>end_sec</th>\n",
       "    </tr>\n",
       "  </thead>\n",
       "  <tbody>\n",
       "    <tr>\n",
       "      <th>5</th>\n",
       "      <td>-220020068_456241671</td>\n",
       "      <td>https://vkvideo.ru/video-220020068_456241671</td>\n",
       "      <td>Амepикaнcкий вaндaл. 1 сезон, 3 серия</td>\n",
       "      <td>0:03:47</td>\n",
       "      <td>0:03:10</td>\n",
       "      <td>227</td>\n",
       "      <td>190</td>\n",
       "    </tr>\n",
       "    <tr>\n",
       "      <th>9</th>\n",
       "      <td>-220020068_456256475</td>\n",
       "      <td>https://vkvideo.ru/video-220020068_456256475</td>\n",
       "      <td>Бойцовская ночь: Афера на миллион. 1 сезон, 5 ...</td>\n",
       "      <td>0:10:42</td>\n",
       "      <td>0:10:25</td>\n",
       "      <td>642</td>\n",
       "      <td>625</td>\n",
       "    </tr>\n",
       "    <tr>\n",
       "      <th>12</th>\n",
       "      <td>-220020068_456241758</td>\n",
       "      <td>https://vkvideo.ru/video-220020068_456241758</td>\n",
       "      <td>Блеск. 2 сезон, 5 серия</td>\n",
       "      <td>0:01:58</td>\n",
       "      <td>0:01:02</td>\n",
       "      <td>118</td>\n",
       "      <td>62</td>\n",
       "    </tr>\n",
       "    <tr>\n",
       "      <th>25</th>\n",
       "      <td>-220020068_456255346</td>\n",
       "      <td>https://vkvideo.ru/video-220020068_456255346</td>\n",
       "      <td>Архив 81. 1 сезон. 3 серия.</td>\n",
       "      <td>0:01:51</td>\n",
       "      <td>0:01:26</td>\n",
       "      <td>111</td>\n",
       "      <td>86</td>\n",
       "    </tr>\n",
       "    <tr>\n",
       "      <th>31</th>\n",
       "      <td>-220020068_456257137</td>\n",
       "      <td>https://vkvideo.ru/video-220020068_456257137</td>\n",
       "      <td>Белые линии. 1 сезон. 8 серия.</td>\n",
       "      <td>0:02:53</td>\n",
       "      <td>0:02:00</td>\n",
       "      <td>173</td>\n",
       "      <td>120</td>\n",
       "    </tr>\n",
       "  </tbody>\n",
       "</table>\n",
       "</div>"
      ],
      "text/plain": [
       "                video_id                                           url  \\\n",
       "5   -220020068_456241671  https://vkvideo.ru/video-220020068_456241671   \n",
       "9   -220020068_456256475  https://vkvideo.ru/video-220020068_456256475   \n",
       "12  -220020068_456241758  https://vkvideo.ru/video-220020068_456241758   \n",
       "25  -220020068_456255346  https://vkvideo.ru/video-220020068_456255346   \n",
       "31  -220020068_456257137  https://vkvideo.ru/video-220020068_456257137   \n",
       "\n",
       "                                                 name    start      end  \\\n",
       "5               Амepикaнcкий вaндaл. 1 сезон, 3 серия  0:03:47  0:03:10   \n",
       "9   Бойцовская ночь: Афера на миллион. 1 сезон, 5 ...  0:10:42  0:10:25   \n",
       "12                            Блеск. 2 сезон, 5 серия  0:01:58  0:01:02   \n",
       "25                        Архив 81. 1 сезон. 3 серия.  0:01:51  0:01:26   \n",
       "31                     Белые линии. 1 сезон. 8 серия.  0:02:53  0:02:00   \n",
       "\n",
       "    start_sec  end_sec  \n",
       "5         227      190  \n",
       "9         642      625  \n",
       "12        118       62  \n",
       "25        111       86  \n",
       "31        173      120  "
      ]
     },
     "execution_count": 47,
     "metadata": {},
     "output_type": "execute_result"
    }
   ],
   "source": [
    "test_df[test_df[\"start_sec\"] > test_df[\"end_sec\"]]"
   ]
  },
  {
   "cell_type": "code",
   "execution_count": 48,
   "id": "829919b3",
   "metadata": {},
   "outputs": [
    {
     "name": "stdout",
     "output_type": "stream",
     "text": [
      "1\n",
      "1\n"
     ]
    }
   ],
   "source": [
    "print(sum(train_df['name'].str.contains(\"Агентство Локвуд\")) + sum(test_df['name'].str.contains(\"Агентство Локвуд\")))\n",
    "print(sum(train_df['name'].str.contains(\"Блaгиe знaмeния\")) + sum(test_df['name'].str.contains(\"Блaгиe знaмeния\")))"
   ]
  },
  {
   "cell_type": "code",
   "execution_count": 49,
   "id": "ce25f822",
   "metadata": {},
   "outputs": [],
   "source": [
    "train_df.loc[train_df[\"start_sec\"] > train_df[\"end_sec\"], 'start_sec'] = train_df.loc[train_df[\"start_sec\"] > train_df[\"end_sec\"], 'start_sec'] - 60"
   ]
  },
  {
   "cell_type": "code",
   "execution_count": 50,
   "id": "9d14835f",
   "metadata": {},
   "outputs": [],
   "source": [
    "test_df.loc[test_df[\"start_sec\"] > test_df[\"end_sec\"], 'start_sec'] = test_df.loc[test_df[\"start_sec\"] > test_df[\"end_sec\"], 'start_sec'] - 60"
   ]
  },
  {
   "cell_type": "code",
   "execution_count": 51,
   "id": "3d1dca80",
   "metadata": {},
   "outputs": [],
   "source": [
    "train_df = train_df.loc[train_df[\"start_sec\"] < train_df[\"end_sec\"]]\n",
    "test_df = test_df.loc[test_df[\"start_sec\"] < test_df[\"end_sec\"]]"
   ]
  },
  {
   "cell_type": "code",
   "execution_count": 52,
   "id": "e7faa409",
   "metadata": {},
   "outputs": [],
   "source": [
    "train_df['intro_duration'] = train_df['end_sec'] - train_df['start_sec'] "
   ]
  },
  {
   "cell_type": "code",
   "execution_count": 53,
   "id": "be741b3b",
   "metadata": {},
   "outputs": [],
   "source": [
    "test_df['intro_duration'] = test_df['end_sec'] - test_df['start_sec'] "
   ]
  },
  {
   "cell_type": "code",
   "execution_count": 54,
   "id": "65a103db",
   "metadata": {},
   "outputs": [
    {
     "data": {
      "text/plain": [
       "<Axes: ylabel='intro_duration'>"
      ]
     },
     "execution_count": 54,
     "metadata": {},
     "output_type": "execute_result"
    },
    {
     "data": {
      "image/png": "[encoded data removed]",
      "text/plain": [
       "<Figure size 640x480 with 1 Axes>"
      ]
     },
     "metadata": {},
     "output_type": "display_data"
    }
   ],
   "source": [
    "sns.boxplot(train_df['intro_duration'])"
   ]
  },
  {
   "cell_type": "code",
   "execution_count": 55,
   "id": "e2a174c8",
   "metadata": {},
   "outputs": [
    {
     "data": {
      "text/plain": [
       "<Axes: ylabel='intro_duration'>"
      ]
     },
     "execution_count": 55,
     "metadata": {},
     "output_type": "execute_result"
    },
    {
     "data": {
      "image/png": "[encoded data removed]",
      "text/plain": [
       "<Figure size 640x480 with 1 Axes>"
      ]
     },
     "metadata": {},
     "output_type": "display_data"
    }
   ],
   "source": [
    "sns.boxplot(test_df['intro_duration'])"
   ]
  },
  {
   "cell_type": "code",
   "execution_count": 56,
   "id": "22952edc",
   "metadata": {},
   "outputs": [
    {
     "data": {
      "text/plain": [
       "<Axes: ylabel='start_sec'>"
      ]
     },
     "execution_count": 56,
     "metadata": {},
     "output_type": "execute_result"
    },
    {
     "data": {
      "image/png": "[encoded data removed]",
      "text/plain": [
       "<Figure size 640x480 with 1 Axes>"
      ]
     },
     "metadata": {},
     "output_type": "display_data"
    }
   ],
   "source": [
    "sns.boxplot(train_df['start_sec'])"
   ]
  },
  {
   "cell_type": "code",
   "execution_count": 57,
   "id": "ba8af730",
   "metadata": {},
   "outputs": [
    {
     "data": {
      "text/plain": [
       "<Axes: ylabel='start_sec'>"
      ]
     },
     "execution_count": 57,
     "metadata": {},
     "output_type": "execute_result"
    },
    {
     "data": {
      "image/png": "[encoded data removed]",
      "text/plain": [
       "<Figure size 640x480 with 1 Axes>"
      ]
     },
     "metadata": {},
     "output_type": "display_data"
    }
   ],
   "source": [
    "sns.boxplot(test_df['start_sec'])"
   ]
  },
  {
   "cell_type": "markdown",
   "id": "49e65eb3",
   "metadata": {},
   "source": [
    "# Подготовка входный последовательностей"
   ]
  },
  {
   "cell_type": "code",
   "execution_count": 58,
   "id": "599167d7",
   "metadata": {},
   "outputs": [],
   "source": [
    "def extract_labeled_frames(video_path, intro_start, intro_end, fps=1):\n",
    "    cap = cv2.VideoCapture(video_path)\n",
    "    video_fps = round(cap.get(cv2.CAP_PROP_FPS))\n",
    "    step = int(video_fps // fps)\n",
    "\n",
    "    frames = []\n",
    "    labels = []\n",
    "    times = []\n",
    "\n",
    "    for i in range(intro_start*video_fps, (intro_start + 2*(intro_end - intro_start))*video_fps, step):\n",
    "        cap.set(cv2.CAP_PROP_POS_FRAMES, i)\n",
    "        ret, frame = cap.read()\n",
    "        if not ret:\n",
    "            break\n",
    "        time_sec = i / video_fps\n",
    "        label = 1 if intro_start <= time_sec < intro_end else 0\n",
    "        frames.append(frame)\n",
    "        labels.append(label)\n",
    "        times.append(time_sec)\n",
    "\n",
    "    cap.release()\n",
    "    return frames, labels"
   ]
  },
  {
   "cell_type": "code",
   "execution_count": 59,
   "id": "e6f1d3ef",
   "metadata": {},
   "outputs": [],
   "source": [
    "# Device\n",
    "device = \"cuda\" if torch.cuda.is_available() else \"cpu\"\n",
    "\n",
    "# Load model and processor\n",
    "model = CLIPModel.from_pretrained(\"openai/clip-vit-base-patch32\").to(device)\n",
    "processor = CLIPProcessor.from_pretrained(\"openai/clip-vit-base-patch32\")\n",
    "\n",
    "def extract_clip_features(frames):\n",
    "    features = []\n",
    "    for frame in frames:\n",
    "        # Convert frame to RGB PIL image\n",
    "        img = Image.fromarray(cv2.cvtColor(frame, cv2.COLOR_BGR2RGB))\n",
    "        \n",
    "        # Preprocess and move to device\n",
    "        inputs = processor(images=img, return_tensors=\"pt\").to(device)\n",
    "        \n",
    "        # Extract features\n",
    "        with torch.no_grad():\n",
    "            outputs = model.get_image_features(**inputs)  # shape: [1, 512]\n",
    "        \n",
    "        features.append(outputs.cpu().squeeze())  # shape: [512]\n",
    "    \n",
    "    return features  # List of torch tensors [clip_dim]\n"
   ]
  },
  {
   "cell_type": "markdown",
   "id": "9e2ef800",
   "metadata": {},
   "source": [
    "## Train"
   ]
  },
  {
   "cell_type": "code",
   "execution_count": 60,
   "id": "2fc815dc",
   "metadata": {},
   "outputs": [
    {
     "name": "stderr",
     "output_type": "stream",
     "text": [
      "100%|██████████| 79/79 [01:01<00:00,  1.28it/s]\n"
     ]
    }
   ],
   "source": [
    "all_features = []\n",
    "all_labels = []\n",
    "all_frames = []\n",
    "\n",
    "for video_name in tqdm(list(train_df['video_id'])):\n",
    "    video_path = f\"data_train_short/{video_name}/{video_name}.mp4\"\n",
    "    start = train_df.loc[train_df['video_id'] == video_name]['start_sec'].values[0]\n",
    "    end = train_df.loc[train_df['video_id'] == video_name]['end_sec'].values[0]\n",
    "    duration = train_df.loc[train_df['video_id'] == video_name]['intro_duration'].values[0]\n",
    "    \n",
    "    frames, labels = extract_labeled_frames(video_path, start, end)\n",
    "    all_frames.extend(frames)\n",
    "    clip_features = extract_clip_features(frames)\n",
    "    all_features.extend(clip_features)\n",
    "    all_labels.extend(labels)"
   ]
  },
  {
   "cell_type": "code",
   "execution_count": 61,
   "id": "1ff5bf2b",
   "metadata": {},
   "outputs": [
    {
     "data": {
      "image/png": "[encoded data removed]",
      "text/plain": [
       "<Figure size 640x480 with 1 Axes>"
      ]
     },
     "metadata": {},
     "output_type": "display_data"
    },
    {
     "name": "stdout",
     "output_type": "stream",
     "text": [
      "1\n"
     ]
    }
   ],
   "source": [
    "plt.imshow(Image.fromarray(cv2.cvtColor(all_frames[506], cv2.COLOR_BGR2RGB)))\n",
    "plt.show()\n",
    "print(all_labels[506])"
   ]
  },
  {
   "cell_type": "code",
   "execution_count": 63,
   "id": "11eca77d",
   "metadata": {},
   "outputs": [
    {
     "data": {
      "text/plain": [
       "2068"
      ]
     },
     "execution_count": 63,
     "metadata": {},
     "output_type": "execute_result"
    }
   ],
   "source": [
    "len(all_frames)"
   ]
  },
  {
   "cell_type": "code",
   "execution_count": 190,
   "id": "0098b669",
   "metadata": {},
   "outputs": [
    {
     "data": {
      "text/plain": [
       "0.5"
      ]
     },
     "execution_count": 190,
     "metadata": {},
     "output_type": "execute_result"
    }
   ],
   "source": [
    "sum(all_labels) / len(all_labels)"
   ]
  },
  {
   "cell_type": "code",
   "execution_count": null,
   "id": "023c8e8d",
   "metadata": {},
   "outputs": [],
   "source": [
    "def split_into_chunks(features, labels, stride=5, chunk_size=60):\n",
    "    X_chunks = []\n",
    "    y_chunks = []\n",
    "    for i in range(0, len(features) - chunk_size + 1, stride):\n",
    "        X = torch.stack(features[i:i+chunk_size])  # shape: [60, clip_dim]\n",
    "        y = torch.tensor(labels[i:i+chunk_size])   # shape: [60]\n",
    "        X_chunks.append(X)\n",
    "        y_chunks.append(y)\n",
    "    return X_chunks, y_chunks"
   ]
  },
  {
   "cell_type": "code",
   "execution_count": 185,
   "id": "958cbbec",
   "metadata": {},
   "outputs": [],
   "source": [
    "X_chunks, y_chunks = split_into_chunks(all_features, all_labels)"
   ]
  },
  {
   "cell_type": "code",
   "execution_count": 204,
   "id": "42eeac72",
   "metadata": {},
   "outputs": [
    {
     "data": {
      "text/plain": [
       "402"
      ]
     },
     "execution_count": 204,
     "metadata": {},
     "output_type": "execute_result"
    }
   ],
   "source": [
    "len(X_chunks)"
   ]
  },
  {
   "cell_type": "code",
   "execution_count": 189,
   "id": "06ae7542",
   "metadata": {},
   "outputs": [
    {
     "data": {
      "text/plain": [
       "402"
      ]
     },
     "execution_count": 189,
     "metadata": {},
     "output_type": "execute_result"
    }
   ],
   "source": [
    "len(X_chunks)"
   ]
  },
  {
   "cell_type": "code",
   "execution_count": 206,
   "id": "2e46bb1c",
   "metadata": {},
   "outputs": [],
   "source": [
    "import os\n",
    "os.makedirs(\"train_clip_sequences\", exist_ok=True)\n",
    "\n",
    "for i, (X, y) in enumerate(zip(X_chunks, y_chunks)):\n",
    "    torch.save({'features': X, 'labels': y}, f\"train_clip_sequences/seq_{i:04}.pt\")"
   ]
  },
  {
   "cell_type": "markdown",
   "id": "64c9f30c",
   "metadata": {},
   "source": [
    "## Test"
   ]
  },
  {
   "cell_type": "code",
   "execution_count": 208,
   "id": "f2bd5885",
   "metadata": {},
   "outputs": [
    {
     "name": "stderr",
     "output_type": "stream",
     "text": [
      "100%|██████████| 45/45 [00:37<00:00,  1.19it/s]\n"
     ]
    }
   ],
   "source": [
    "all_features = []\n",
    "all_labels = []\n",
    "all_frames = []\n",
    "\n",
    "for video_name in tqdm(list(test_df['video_id'])):\n",
    "    video_path = f\"data_test_short/{video_name}/{video_name}.mp4\"\n",
    "    start = test_df.loc[test_df['video_id'] == video_name]['start_sec'].values[0]\n",
    "    end = test_df.loc[test_df['video_id'] == video_name]['end_sec'].values[0]\n",
    "    duration = test_df.loc[test_df['video_id'] == video_name]['intro_duration'].values[0]\n",
    "    \n",
    "    frames, labels = extract_labeled_frames(video_path, start, end)\n",
    "    all_frames.extend(frames)\n",
    "    clip_features = extract_clip_features(frames)\n",
    "    all_features.extend(clip_features)\n",
    "    all_labels.extend(labels)"
   ]
  },
  {
   "cell_type": "code",
   "execution_count": 209,
   "id": "a5fc6f0a",
   "metadata": {},
   "outputs": [
    {
     "data": {
      "text/plain": [
       "992"
      ]
     },
     "execution_count": 209,
     "metadata": {},
     "output_type": "execute_result"
    }
   ],
   "source": [
    "len(all_frames)"
   ]
  },
  {
   "cell_type": "code",
   "execution_count": 226,
   "id": "0a4a7df6",
   "metadata": {},
   "outputs": [
    {
     "data": {
      "image/png": "[encoded data removed]",
      "text/plain": [
       "<Figure size 640x480 with 1 Axes>"
      ]
     },
     "metadata": {},
     "output_type": "display_data"
    },
    {
     "name": "stdout",
     "output_type": "stream",
     "text": [
      "1\n"
     ]
    }
   ],
   "source": [
    "plt.imshow(Image.fromarray(cv2.cvtColor(all_frames[120], cv2.COLOR_BGR2RGB)))\n",
    "plt.show()\n",
    "print(all_labels[120])"
   ]
  },
  {
   "cell_type": "code",
   "execution_count": 227,
   "id": "ffc00e5a",
   "metadata": {},
   "outputs": [],
   "source": [
    "X_chunks, y_chunks = split_into_chunks(all_features, all_labels)"
   ]
  },
  {
   "cell_type": "code",
   "execution_count": 228,
   "id": "5e2b70bd",
   "metadata": {},
   "outputs": [],
   "source": [
    "os.makedirs(\"test_clip_sequences\", exist_ok=True)\n",
    "\n",
    "for i, (X, y) in enumerate(zip(X_chunks, y_chunks)):\n",
    "    torch.save({'features': X, 'labels': y}, f\"test_clip_sequences/seq_{i:04}.pt\")"
   ]
  },
  {
   "cell_type": "markdown",
   "id": "140631c2",
   "metadata": {},
   "source": [
    "# Обучение модели"
   ]
  },
  {
   "cell_type": "markdown",
   "id": "a6db1b89",
   "metadata": {},
   "source": [
    "## Загрузка датасета и создание даталодера"
   ]
  },
  {
   "cell_type": "code",
   "execution_count": 2,
   "id": "ae065937",
   "metadata": {},
   "outputs": [],
   "source": [
    "class IntroSequenceDataset(Dataset):\n",
    "    def __init__(self, data_dir):\n",
    "        self.data_dir = data_dir\n",
    "        self.files = sorted([\n",
    "            os.path.join(data_dir, f)\n",
    "            for f in os.listdir(data_dir)\n",
    "            if f.endswith('.pt')\n",
    "        ])\n",
    "\n",
    "    def __len__(self):\n",
    "        return len(self.files)\n",
    "\n",
    "    def __getitem__(self, idx):\n",
    "        item = torch.load(self.files[idx])\n",
    "        features = item['features']   # [60, 512]\n",
    "        labels = item['labels']       # [60]\n",
    "        return features, labels\n"
   ]
  },
  {
   "cell_type": "code",
   "execution_count": 3,
   "id": "915b43cc",
   "metadata": {},
   "outputs": [],
   "source": [
    "batch_size = 8\n",
    "\n",
    "train_dataset = IntroSequenceDataset(\"train_clip_sequences\")\n",
    "train_loader = DataLoader(train_dataset, batch_size=batch_size, shuffle=True)\n",
    "\n",
    "\n",
    "test_dataset = IntroSequenceDataset(\"test_clip_sequences\")\n",
    "test_loader = DataLoader(test_dataset, batch_size=batch_size, shuffle=False)"
   ]
  },
  {
   "cell_type": "code",
   "execution_count": 238,
   "id": "16f25e7c",
   "metadata": {},
   "outputs": [
    {
     "data": {
      "text/plain": [
       "torch.Size([8, 60])"
      ]
     },
     "execution_count": 238,
     "metadata": {},
     "output_type": "execute_result"
    }
   ],
   "source": [
    "next(iter(train_loader))[1].shape"
   ]
  },
  {
   "cell_type": "code",
   "execution_count": 237,
   "id": "9e5f867f",
   "metadata": {},
   "outputs": [
    {
     "data": {
      "text/plain": [
       "51"
      ]
     },
     "execution_count": 237,
     "metadata": {},
     "output_type": "execute_result"
    }
   ],
   "source": [
    "len(train_loader)"
   ]
  },
  {
   "cell_type": "markdown",
   "id": "10afb967",
   "metadata": {},
   "source": [
    "## Модель"
   ]
  },
  {
   "cell_type": "code",
   "execution_count": 4,
   "id": "35720f08",
   "metadata": {},
   "outputs": [],
   "source": [
    "class IntroDetector(nn.Module):\n",
    "    def __init__(self, clip_dim=512, seq_len=60, num_layers=16, num_heads=16, ff_dim=2048):\n",
    "        super().__init__()\n",
    "        self.seq_len = seq_len\n",
    "        self.clip_dim = clip_dim\n",
    "\n",
    "        # Learnable positional embeddings: [1, 60, 512]\n",
    "        self.pos_embedding = nn.Parameter(torch.randn(1, seq_len, clip_dim))\n",
    "\n",
    "        # Transformer Encoder\n",
    "        encoder_layer = nn.TransformerEncoderLayer(\n",
    "            d_model=clip_dim,\n",
    "            nhead=num_heads,\n",
    "            dim_feedforward=ff_dim,\n",
    "            batch_first=True\n",
    "        )\n",
    "        self.transformer = nn.TransformerEncoder(encoder_layer, num_layers=num_layers)\n",
    "\n",
    "        # Frame-wise classifier: outputs 1 logit per frame\n",
    "        self.classifier = nn.Linear(clip_dim, 1)\n",
    "\n",
    "    def forward(self, x):  # x: [batch_size, 60, 512]\n",
    "        x = x + self.pos_embedding  # Add position info\n",
    "        x = self.transformer(x)     # Apply attention\n",
    "        logits = self.classifier(x) # Shape: [batch_size, 60, 1]\n",
    "        return logits.squeeze(-1)   # [batch_size, 60]\n"
   ]
  },
  {
   "cell_type": "markdown",
   "id": "ef590b84",
   "metadata": {},
   "source": [
    "### intro_detector_0 (Test accuracy: 0.7800)"
   ]
  },
  {
   "cell_type": "code",
   "execution_count": 243,
   "id": "078a41c4",
   "metadata": {},
   "outputs": [],
   "source": [
    "model = IntroDetector().to(device)\n",
    "optimizer = torch.optim.Adam(model.parameters(), lr=5e-5)\n",
    "criterion = torch.nn.BCEWithLogitsLoss()\n",
    "\n",
    "num_epochs = 20"
   ]
  },
  {
   "cell_type": "code",
   "execution_count": null,
   "id": "ea53493a",
   "metadata": {},
   "outputs": [
    {
     "name": "stdout",
     "output_type": "stream",
     "text": [
      "Epoch 1, Loss: 0.7029, Accuracy: 0.5067\n",
      "Epoch 2, Loss: 0.7006, Accuracy: 0.4959\n",
      "Epoch 3, Loss: 0.6955, Accuracy: 0.5178\n",
      "Epoch 4, Loss: 0.6803, Accuracy: 0.5704\n",
      "Epoch 5, Loss: 0.6605, Accuracy: 0.6069\n",
      "Epoch 6, Loss: 0.6377, Accuracy: 0.6364\n",
      "Epoch 7, Loss: 0.4708, Accuracy: 0.8054\n",
      "Epoch 8, Loss: 0.4248, Accuracy: 0.8374\n",
      "Epoch 9, Loss: 0.3566, Accuracy: 0.8617\n",
      "Epoch 10, Loss: 0.3103, Accuracy: 0.8752\n",
      "Epoch 11, Loss: 0.2871, Accuracy: 0.8842\n",
      "Epoch 12, Loss: 0.2507, Accuracy: 0.8948\n",
      "Epoch 13, Loss: 0.2181, Accuracy: 0.9090\n",
      "Epoch 14, Loss: 0.1934, Accuracy: 0.9162\n",
      "Epoch 15, Loss: 0.1762, Accuracy: 0.9235\n",
      "Epoch 16, Loss: 0.1519, Accuracy: 0.9340\n",
      "Epoch 17, Loss: 0.1332, Accuracy: 0.9423\n",
      "Epoch 18, Loss: 0.1165, Accuracy: 0.9499\n",
      "Epoch 19, Loss: 0.1000, Accuracy: 0.9588\n",
      "Epoch 20, Loss: 0.0890, Accuracy: 0.9625\n"
     ]
    }
   ],
   "source": [
    "for epoch in range(num_epochs):\n",
    "    model.train()\n",
    "    running_loss = 0.0\n",
    "    total_correct = 0\n",
    "    total_predictions = 0\n",
    "\n",
    "    for features, labels in train_loader:\n",
    "        features, labels = features.to(device), labels.to(device).float()\n",
    "        logits = model(features)  # [B, 60]\n",
    "        loss = criterion(logits, labels)\n",
    "\n",
    "        optimizer.zero_grad()\n",
    "        loss.backward()\n",
    "        optimizer.step()\n",
    "\n",
    "        running_loss += loss.item()\n",
    "\n",
    "        # Compute per-frame accuracy\n",
    "        preds = torch.sigmoid(logits) > 0.5  # Binary prediction\n",
    "        correct = (preds == labels.bool()).sum().item()\n",
    "        total_correct += correct\n",
    "        total_predictions += labels.numel()  # total number of elements in label tensor\n",
    "\n",
    "    accuracy = total_correct / total_predictions\n",
    "    avg_loss = running_loss / len(train_loader)\n",
    "\n",
    "    print(f\"Epoch {epoch + 1}, Loss: {avg_loss:.4f}, Accuracy: {accuracy:.4f}\")\n"
   ]
  },
  {
   "cell_type": "code",
   "execution_count": 249,
   "id": "d365c9d0",
   "metadata": {},
   "outputs": [],
   "source": [
    "def accuracy(preds, labels):\n",
    "    \"\"\"\n",
    "    preds: Tensor of shape (batch_size, seq_len)\n",
    "           or (batch_size, seq_len, 1) — predicted probabilities or logits\n",
    "    labels: Tensor of shape (batch_size, seq_len) — ground truth labels (0 or 1)\n",
    "\n",
    "    Returns: scalar accuracy value\n",
    "    \"\"\"\n",
    "    preds = (preds > 0.5).long()  # for binary classification with sigmoid output\n",
    "    correct = (preds == labels).sum().item()\n",
    "    total = labels.numel()\n",
    "    return correct / total"
   ]
  },
  {
   "cell_type": "code",
   "execution_count": null,
   "id": "51f0c5f1",
   "metadata": {},
   "outputs": [
    {
     "name": "stdout",
     "output_type": "stream",
     "text": [
      "Accuracy: 0.9681\n"
     ]
    }
   ],
   "source": [
    "model.eval()\n",
    "total_acc = 0\n",
    "total_samples = 0\n",
    "\n",
    "with torch.no_grad():\n",
    "    for batch in train_loader:  # train or test dataloader\n",
    "        inputs, labels = batch  # inputs: (B, 60, D), labels: (B, 60)\n",
    "        inputs = inputs.to(device)\n",
    "        labels = labels.to(device)\n",
    "\n",
    "        outputs = model(inputs)  # should return shape (B, 60)\n",
    "        acc = accuracy(outputs, labels)\n",
    "\n",
    "        total_acc += acc * labels.size(0)  # accumulate weighted by batch size\n",
    "        total_samples += labels.size(0)\n",
    "\n",
    "final_acc = total_acc / total_samples\n",
    "print(f\"Accuracy: {final_acc:.4f}\")\n"
   ]
  },
  {
   "cell_type": "code",
   "execution_count": 255,
   "id": "224000b7",
   "metadata": {},
   "outputs": [
    {
     "name": "stdout",
     "output_type": "stream",
     "text": [
      "Test accuracy: 0.7800\n"
     ]
    }
   ],
   "source": [
    "model.eval()\n",
    "total_acc = 0\n",
    "total_samples = 0\n",
    "\n",
    "with torch.no_grad():\n",
    "    for batch in test_loader:  # train or test dataloader\n",
    "        inputs, labels = batch  # inputs: (B, 60, D), labels: (B, 60)\n",
    "        inputs = inputs.to(device)\n",
    "        labels = labels.to(device)\n",
    "\n",
    "        outputs = model(inputs)  # should return shape (B, 60)\n",
    "        acc = accuracy(outputs, labels)\n",
    "\n",
    "        total_acc += acc * labels.size(0)  # accumulate weighted by batch size\n",
    "        total_samples += labels.size(0)\n",
    "\n",
    "final_acc = total_acc / total_samples\n",
    "print(f\"Test accuracy: {final_acc:.4f}\")"
   ]
  },
  {
   "cell_type": "code",
   "execution_count": 257,
   "id": "87240c57",
   "metadata": {},
   "outputs": [],
   "source": [
    "torch.save(model.state_dict(), \"model_weights/intro_detector_0.pth\")"
   ]
  },
  {
   "cell_type": "markdown",
   "id": "4237a14e",
   "metadata": {},
   "source": [
    "### intro_detector_1 (Test Accuracy: 0.8051)"
   ]
  },
  {
   "cell_type": "code",
   "execution_count": 8,
   "id": "d7c47aed",
   "metadata": {},
   "outputs": [],
   "source": [
    "import torch\n",
    "import torch.nn as nn\n",
    "\n",
    "def accuracy(preds, labels):\n",
    "    preds = (preds > 0.5).long()\n",
    "    correct = (preds == labels).sum().item()\n",
    "    total = labels.numel()\n",
    "    return correct / total\n",
    "\n",
    "def train_model(model, train_loader, test_loader, optimizer, criterion, device, epochs=10):\n",
    "    model = model.to(device)\n",
    "\n",
    "    for epoch in range(epochs):\n",
    "        model.train()\n",
    "        train_loss = 0\n",
    "        train_correct = 0\n",
    "        train_total = 0\n",
    "\n",
    "        for inputs, labels in train_loader:\n",
    "            inputs, labels = inputs.to(device), labels.to(device)\n",
    "\n",
    "            optimizer.zero_grad()\n",
    "            outputs = model(inputs)  # shape: (B, 60)\n",
    "\n",
    "            loss = criterion(outputs, labels.float())  # binary classification\n",
    "            loss.backward()\n",
    "            optimizer.step()\n",
    "\n",
    "            train_loss += loss.item() * labels.size(0)\n",
    "            train_correct += (outputs > 0.5).long().eq(labels).sum().item()\n",
    "            train_total += labels.numel()\n",
    "\n",
    "        train_acc = train_correct / train_total\n",
    "        avg_train_loss = train_loss / train_total\n",
    "\n",
    "        # Evaluate on test set\n",
    "        model.eval()\n",
    "        test_correct = 0\n",
    "        test_total = 0\n",
    "        test_loss = 0\n",
    "\n",
    "        with torch.no_grad():\n",
    "            for inputs, labels in test_loader:\n",
    "                inputs, labels = inputs.to(device), labels.to(device)\n",
    "                outputs = model(inputs)\n",
    "                loss = criterion(outputs, labels.float())\n",
    "\n",
    "                test_loss += loss.item() * labels.size(0)\n",
    "                test_correct += (outputs > 0.5).long().eq(labels).sum().item()\n",
    "                test_total += labels.numel()\n",
    "\n",
    "        test_acc = test_correct / test_total\n",
    "        avg_test_loss = test_loss / test_total\n",
    "\n",
    "        print(f\"Epoch {epoch+1}/{epochs}\")\n",
    "        print(f\"Train Loss: {avg_train_loss:.4f}, Accuracy: {train_acc:.4f}\")\n",
    "        print(f\"Test  Loss: {avg_test_loss:.4f}, Accuracy: {test_acc:.4f}\")\n",
    "        print(\"-\" * 40)\n"
   ]
  },
  {
   "cell_type": "code",
   "execution_count": 19,
   "id": "6b81eff3",
   "metadata": {},
   "outputs": [
    {
     "name": "stdout",
     "output_type": "stream",
     "text": [
      "Epoch 1/40\n",
      "Train Loss: 0.0122, Accuracy: 0.4939\n",
      "Test  Loss: 0.0117, Accuracy: 0.5010\n",
      "----------------------------------------\n",
      "Epoch 2/40\n",
      "Train Loss: 0.0118, Accuracy: 0.4963\n",
      "Test  Loss: 0.0116, Accuracy: 0.5010\n",
      "----------------------------------------\n",
      "Epoch 3/40\n",
      "Train Loss: 0.0117, Accuracy: 0.4959\n",
      "Test  Loss: 0.0116, Accuracy: 0.5010\n",
      "----------------------------------------\n",
      "Epoch 4/40\n",
      "Train Loss: 0.0116, Accuracy: 0.4971\n",
      "Test  Loss: 0.0117, Accuracy: 0.5010\n",
      "----------------------------------------\n",
      "Epoch 5/40\n",
      "Train Loss: 0.0117, Accuracy: 0.4959\n",
      "Test  Loss: 0.0116, Accuracy: 0.5010\n",
      "----------------------------------------\n",
      "Epoch 6/40\n",
      "Train Loss: 0.0117, Accuracy: 0.4971\n",
      "Test  Loss: 0.0116, Accuracy: 0.5010\n",
      "----------------------------------------\n",
      "Epoch 7/40\n",
      "Train Loss: 0.0116, Accuracy: 0.4961\n",
      "Test  Loss: 0.0116, Accuracy: 0.5010\n",
      "----------------------------------------\n",
      "Epoch 8/40\n",
      "Train Loss: 0.0116, Accuracy: 0.4978\n",
      "Test  Loss: 0.0117, Accuracy: 0.5010\n",
      "----------------------------------------\n",
      "Epoch 9/40\n",
      "Train Loss: 0.0113, Accuracy: 0.5123\n",
      "Test  Loss: 0.0116, Accuracy: 0.5010\n",
      "----------------------------------------\n",
      "Epoch 10/40\n",
      "Train Loss: 0.0111, Accuracy: 0.5544\n",
      "Test  Loss: 0.0115, Accuracy: 0.5010\n",
      "----------------------------------------\n",
      "Epoch 11/40\n",
      "Train Loss: 0.0109, Accuracy: 0.5649\n",
      "Test  Loss: 0.0118, Accuracy: 0.5485\n",
      "----------------------------------------\n",
      "Epoch 12/40\n",
      "Train Loss: 0.0107, Accuracy: 0.6033\n",
      "Test  Loss: 0.0105, Accuracy: 0.6281\n",
      "----------------------------------------\n",
      "Epoch 13/40\n",
      "Train Loss: 0.0078, Accuracy: 0.7997\n",
      "Test  Loss: 0.0087, Accuracy: 0.7103\n",
      "----------------------------------------\n",
      "Epoch 14/40\n",
      "Train Loss: 0.0066, Accuracy: 0.8362\n",
      "Test  Loss: 0.0085, Accuracy: 0.7398\n",
      "----------------------------------------\n",
      "Epoch 15/40\n",
      "Train Loss: 0.0053, Accuracy: 0.8660\n",
      "Test  Loss: 0.0094, Accuracy: 0.6833\n",
      "----------------------------------------\n",
      "Epoch 16/40\n",
      "Train Loss: 0.0047, Accuracy: 0.8739\n",
      "Test  Loss: 0.0109, Accuracy: 0.7172\n",
      "----------------------------------------\n",
      "Epoch 17/40\n",
      "Train Loss: 0.0041, Accuracy: 0.8875\n",
      "Test  Loss: 0.0099, Accuracy: 0.7175\n",
      "----------------------------------------\n",
      "Epoch 18/40\n",
      "Train Loss: 0.0035, Accuracy: 0.8990\n",
      "Test  Loss: 0.0139, Accuracy: 0.7307\n",
      "----------------------------------------\n",
      "Epoch 19/40\n",
      "Train Loss: 0.0030, Accuracy: 0.9121\n",
      "Test  Loss: 0.0125, Accuracy: 0.7169\n",
      "----------------------------------------\n",
      "Epoch 20/40\n",
      "Train Loss: 0.0027, Accuracy: 0.9243\n",
      "Test  Loss: 0.0154, Accuracy: 0.7282\n",
      "----------------------------------------\n",
      "Epoch 21/40\n",
      "Train Loss: 0.0022, Accuracy: 0.9386\n",
      "Test  Loss: 0.0158, Accuracy: 0.7462\n",
      "----------------------------------------\n",
      "Epoch 22/40\n",
      "Train Loss: 0.0018, Accuracy: 0.9484\n",
      "Test  Loss: 0.0163, Accuracy: 0.7472\n",
      "----------------------------------------\n",
      "Epoch 23/40\n",
      "Train Loss: 0.0018, Accuracy: 0.9511\n",
      "Test  Loss: 0.0146, Accuracy: 0.7629\n",
      "----------------------------------------\n",
      "Epoch 24/40\n",
      "Train Loss: 0.0016, Accuracy: 0.9588\n",
      "Test  Loss: 0.0185, Accuracy: 0.7290\n",
      "----------------------------------------\n",
      "Epoch 25/40\n",
      "Train Loss: 0.0012, Accuracy: 0.9693\n",
      "Test  Loss: 0.0142, Accuracy: 0.7880\n",
      "----------------------------------------\n",
      "Epoch 26/40\n",
      "Train Loss: 0.0010, Accuracy: 0.9736\n",
      "Test  Loss: 0.0220, Accuracy: 0.7602\n",
      "----------------------------------------\n",
      "Epoch 27/40\n",
      "Train Loss: 0.0009, Accuracy: 0.9775\n",
      "Test  Loss: 0.0189, Accuracy: 0.7444\n",
      "----------------------------------------\n",
      "Epoch 28/40\n",
      "Train Loss: 0.0007, Accuracy: 0.9829\n",
      "Test  Loss: 0.0148, Accuracy: 0.7930\n",
      "----------------------------------------\n",
      "Epoch 29/40\n",
      "Train Loss: 0.0006, Accuracy: 0.9841\n",
      "Test  Loss: 0.0186, Accuracy: 0.7812\n",
      "----------------------------------------\n",
      "Epoch 30/40\n",
      "Train Loss: 0.0005, Accuracy: 0.9874\n",
      "Test  Loss: 0.0210, Accuracy: 0.7727\n",
      "----------------------------------------\n",
      "Epoch 31/40\n",
      "Train Loss: 0.0005, Accuracy: 0.9891\n",
      "Test  Loss: 0.0160, Accuracy: 0.7913\n",
      "----------------------------------------\n",
      "Epoch 32/40\n",
      "Train Loss: 0.0004, Accuracy: 0.9891\n",
      "Test  Loss: 0.0196, Accuracy: 0.7966\n",
      "----------------------------------------\n",
      "Epoch 33/40\n",
      "Train Loss: 0.0004, Accuracy: 0.9908\n",
      "Test  Loss: 0.0181, Accuracy: 0.7959\n",
      "----------------------------------------\n",
      "Epoch 34/40\n",
      "Train Loss: 0.0004, Accuracy: 0.9914\n",
      "Test  Loss: 0.0197, Accuracy: 0.7731\n",
      "----------------------------------------\n",
      "Epoch 35/40\n",
      "Train Loss: 0.0003, Accuracy: 0.9921\n",
      "Test  Loss: 0.0211, Accuracy: 0.7917\n",
      "----------------------------------------\n",
      "Epoch 36/40\n",
      "Train Loss: 0.0003, Accuracy: 0.9924\n",
      "Test  Loss: 0.0208, Accuracy: 0.7789\n",
      "----------------------------------------\n",
      "Epoch 37/40\n",
      "Train Loss: 0.0003, Accuracy: 0.9932\n",
      "Test  Loss: 0.0188, Accuracy: 0.7852\n",
      "----------------------------------------\n",
      "Epoch 38/40\n",
      "Train Loss: 0.0003, Accuracy: 0.9941\n",
      "Test  Loss: 0.0230, Accuracy: 0.7715\n",
      "----------------------------------------\n",
      "Epoch 39/40\n",
      "Train Loss: 0.0002, Accuracy: 0.9950\n",
      "Test  Loss: 0.0169, Accuracy: 0.7979\n",
      "----------------------------------------\n",
      "Epoch 40/40\n",
      "Train Loss: 0.0003, Accuracy: 0.9936\n",
      "Test  Loss: 0.0171, Accuracy: 0.8051\n",
      "----------------------------------------\n"
     ]
    }
   ],
   "source": [
    "model = IntroDetector().to(device)\n",
    "optimizer = torch.optim.Adam(model.parameters(), lr=5e-5)\n",
    "criterion = torch.nn.BCEWithLogitsLoss()\n",
    "\n",
    "train_model(model, train_loader, test_loader, optimizer, criterion, device, epochs=40)"
   ]
  },
  {
   "cell_type": "code",
   "execution_count": 24,
   "id": "e946018a",
   "metadata": {},
   "outputs": [],
   "source": [
    "torch.save(model.state_dict(), \"model_weights/intro_detector_1.pth\")"
   ]
  },
  {
   "cell_type": "markdown",
   "id": "0e0bde6b",
   "metadata": {},
   "source": [
    "# Метрики Precision, Recall, F1-score"
   ]
  },
  {
   "cell_type": "code",
   "execution_count": 20,
   "id": "2ef19101",
   "metadata": {},
   "outputs": [],
   "source": [
    "import torch\n",
    "from sklearn.metrics import precision_score, recall_score, f1_score\n",
    "\n",
    "def compute_metrics(preds, targets, threshold=0.5):\n",
    "    \"\"\"\n",
    "    Computes precision, recall, and F1 score.\n",
    "\n",
    "    Args:\n",
    "        preds (Tensor): model outputs (logits), shape [batch_size, 60]\n",
    "        targets (Tensor): ground truth labels, shape [batch_size, 60]\n",
    "        threshold (float): classification threshold\n",
    "\n",
    "    Returns:\n",
    "        dict: precision, recall, f1 score\n",
    "    \"\"\"\n",
    "    # Apply sigmoid and flatten\n",
    "    preds = torch.sigmoid(preds).view(-1).cpu().detach().numpy()\n",
    "    targets = targets.view(-1).cpu().detach().numpy()\n",
    "\n",
    "    # Binarize predictions\n",
    "    preds_binary = (preds >= threshold).astype(int)\n",
    "\n",
    "    # Compute metrics\n",
    "    precision = precision_score(targets, preds_binary, zero_division=0)\n",
    "    recall = recall_score(targets, preds_binary, zero_division=0)\n",
    "    f1 = f1_score(targets, preds_binary, zero_division=0)\n",
    "\n",
    "    return {\n",
    "        \"precision\": precision,\n",
    "        \"recall\": recall,\n",
    "        \"f1_score\": f1\n",
    "    }"
   ]
  },
  {
   "cell_type": "markdown",
   "id": "3f56fff4",
   "metadata": {},
   "source": [
    "### intro_detector_0"
   ]
  },
  {
   "cell_type": "code",
   "execution_count": 26,
   "id": "d692a627",
   "metadata": {},
   "outputs": [
    {
     "data": {
      "text/plain": [
       "<All keys matched successfully>"
      ]
     },
     "execution_count": 26,
     "metadata": {},
     "output_type": "execute_result"
    }
   ],
   "source": [
    "model = IntroDetector().to(device)\n",
    "\n",
    "# Load the state dictionary\n",
    "state_dict = torch.load('model_weights\\intro_detector_0.pth')\n",
    "model.load_state_dict(state_dict)"
   ]
  },
  {
   "cell_type": "code",
   "execution_count": 27,
   "id": "efd6e8e2",
   "metadata": {},
   "outputs": [
    {
     "name": "stdout",
     "output_type": "stream",
     "text": [
      "Precision: 0.9750041799030262\n",
      "Recall: 0.9606292727122971\n",
      "F1 Score: 0.9677633489607103\n"
     ]
    }
   ],
   "source": [
    "all_preds = []\n",
    "all_targets = []\n",
    "\n",
    "for inputs, labels in train_loader:\n",
    "    inputs, labels = inputs.to(device), labels.to(device)\n",
    "    \n",
    "    with torch.no_grad():\n",
    "        logits = model(inputs)  # [B, 60]\n",
    "\n",
    "    all_preds.append(logits)\n",
    "    all_targets.append(labels)\n",
    "\n",
    "# Concatenate all batches\n",
    "all_preds = torch.cat(all_preds, dim=0)\n",
    "all_targets = torch.cat(all_targets, dim=0)\n",
    "\n",
    "# Compute and print metrics\n",
    "metrics = compute_metrics(all_preds, all_targets)\n",
    "print(\"Precision:\", metrics[\"precision\"])\n",
    "print(\"Recall:\", metrics[\"recall\"])\n",
    "print(\"F1 Score:\", metrics[\"f1_score\"])"
   ]
  },
  {
   "cell_type": "code",
   "execution_count": 28,
   "id": "bfc1ad78",
   "metadata": {},
   "outputs": [
    {
     "name": "stdout",
     "output_type": "stream",
     "text": [
      "Precision: 0.7801941049604602\n",
      "Recall: 0.7753170208965887\n",
      "F1 Score: 0.777747917226552\n"
     ]
    }
   ],
   "source": [
    "all_preds = []\n",
    "all_targets = []\n",
    "\n",
    "for inputs, labels in test_loader:\n",
    "    inputs, labels = inputs.to(device), labels.to(device)\n",
    "    \n",
    "    with torch.no_grad():\n",
    "        logits = model(inputs)  # [B, 60]\n",
    "\n",
    "    all_preds.append(logits)\n",
    "    all_targets.append(labels)\n",
    "\n",
    "# Concatenate all batches\n",
    "all_preds = torch.cat(all_preds, dim=0)\n",
    "all_targets = torch.cat(all_targets, dim=0)\n",
    "\n",
    "# Compute and print metrics\n",
    "metrics = compute_metrics(all_preds, all_targets)\n",
    "print(\"Precision:\", metrics[\"precision\"])\n",
    "print(\"Recall:\", metrics[\"recall\"])\n",
    "print(\"F1 Score:\", metrics[\"f1_score\"])"
   ]
  },
  {
   "cell_type": "markdown",
   "id": "c762bd90",
   "metadata": {},
   "source": [
    "### intro_detector_1"
   ]
  },
  {
   "cell_type": "code",
   "execution_count": 36,
   "id": "8bf57673",
   "metadata": {},
   "outputs": [
    {
     "data": {
      "text/plain": [
       "<All keys matched successfully>"
      ]
     },
     "execution_count": 36,
     "metadata": {},
     "output_type": "execute_result"
    }
   ],
   "source": [
    "model = IntroDetector().to(device)\n",
    "\n",
    "# Load the state dictionary\n",
    "state_dict = torch.load('model_weights\\intro_detector_1.pth')\n",
    "model.load_state_dict(state_dict)"
   ]
  },
  {
   "cell_type": "code",
   "execution_count": 37,
   "id": "a0b3abc3",
   "metadata": {},
   "outputs": [
    {
     "name": "stdout",
     "output_type": "stream",
     "text": [
      "Precision: 0.9949872627167392\n",
      "Recall: 0.9972819372374598\n",
      "F1 Score: 0.9961332784862197\n"
     ]
    }
   ],
   "source": [
    "all_preds = []\n",
    "all_targets = []\n",
    "\n",
    "for inputs, labels in train_loader:\n",
    "    inputs, labels = inputs.to(device), labels.to(device)\n",
    "    \n",
    "    with torch.no_grad():\n",
    "        logits = model(inputs)  # [B, 60]\n",
    "\n",
    "    all_preds.append(logits)\n",
    "    all_targets.append(labels)\n",
    "\n",
    "# Concatenate all batches\n",
    "all_preds = torch.cat(all_preds, dim=0)\n",
    "all_targets = torch.cat(all_targets, dim=0)\n",
    "\n",
    "# Compute and print metrics\n",
    "metrics = compute_metrics(all_preds, all_targets)\n",
    "print(\"Precision:\", metrics[\"precision\"])\n",
    "print(\"Recall:\", metrics[\"recall\"])\n",
    "print(\"F1 Score:\", metrics[\"f1_score\"])"
   ]
  },
  {
   "cell_type": "code",
   "execution_count": 38,
   "id": "e91f654e",
   "metadata": {},
   "outputs": [
    {
     "name": "stdout",
     "output_type": "stream",
     "text": [
      "Precision: 0.8100325968851865\n",
      "Recall: 0.7988926594034649\n",
      "F1 Score: 0.8044240625843\n"
     ]
    }
   ],
   "source": [
    "all_preds = []\n",
    "all_targets = []\n",
    "\n",
    "for inputs, labels in test_loader:\n",
    "    inputs, labels = inputs.to(device), labels.to(device)\n",
    "    \n",
    "    with torch.no_grad():\n",
    "        logits = model(inputs)  # [B, 60]\n",
    "\n",
    "    all_preds.append(logits)\n",
    "    all_targets.append(labels)\n",
    "\n",
    "# Concatenate all batches\n",
    "all_preds = torch.cat(all_preds, dim=0)\n",
    "all_targets = torch.cat(all_targets, dim=0)\n",
    "\n",
    "# Compute and print metrics\n",
    "metrics = compute_metrics(all_preds, all_targets)\n",
    "print(\"Precision:\", metrics[\"precision\"])\n",
    "print(\"Recall:\", metrics[\"recall\"])\n",
    "print(\"F1 Score:\", metrics[\"f1_score\"])"
   ]
  },
  {
   "cell_type": "markdown",
   "id": "580e718c",
   "metadata": {},
   "source": [
    "# Mess"
   ]
  },
  {
   "cell_type": "code",
   "execution_count": null,
   "id": "804ba101",
   "metadata": {},
   "outputs": [],
   "source": [
    "\n",
    "def extract_labeled_frames(video_path, intro_start, intro_end, fps=1):\n",
    "    cap = cv2.VideoCapture(video_path)\n",
    "    video_fps = cap.get(cv2.CAP_PROP_FPS)\n",
    "    total_frames = int(cap.get(cv2.CAP_PROP_FRAME_COUNT))\n",
    "    step = int(video_fps // fps)\n",
    "\n",
    "    frames = []\n",
    "    labels = []\n",
    "    times = []\n",
    "\n",
    "    for i in range(0, total_frames, step):\n",
    "        cap.set(cv2.CAP_PROP_POS_FRAMES, i)\n",
    "        ret, frame = cap.read()\n",
    "        if not ret:\n",
    "            break\n",
    "        time_sec = i / video_fps\n",
    "        label = 1 if intro_start <= time_sec < intro_end else 0\n",
    "        frames.append(frame)\n",
    "        labels.append(label)\n",
    "        times.append(time_sec)\n",
    "\n",
    "    cap.release()\n",
    "    return frames, labels\n"
   ]
  },
  {
   "cell_type": "code",
   "execution_count": 99,
   "id": "c92e21fe",
   "metadata": {},
   "outputs": [],
   "source": [
    "video_name = list(train_df['video_id'])[1]"
   ]
  },
  {
   "cell_type": "code",
   "execution_count": 100,
   "id": "faf2b72c",
   "metadata": {},
   "outputs": [
    {
     "data": {
      "text/html": [
       "<div>\n",
       "<style scoped>\n",
       "    .dataframe tbody tr th:only-of-type {\n",
       "        vertical-align: middle;\n",
       "    }\n",
       "\n",
       "    .dataframe tbody tr th {\n",
       "        vertical-align: top;\n",
       "    }\n",
       "\n",
       "    .dataframe thead th {\n",
       "        text-align: right;\n",
       "    }\n",
       "</style>\n",
       "<table border=\"1\" class=\"dataframe\">\n",
       "  <thead>\n",
       "    <tr style=\"text-align: right;\">\n",
       "      <th></th>\n",
       "      <th>video_id</th>\n",
       "      <th>url</th>\n",
       "      <th>name</th>\n",
       "      <th>start</th>\n",
       "      <th>end</th>\n",
       "      <th>start_sec</th>\n",
       "      <th>end_sec</th>\n",
       "      <th>intro_duration</th>\n",
       "    </tr>\n",
       "  </thead>\n",
       "  <tbody>\n",
       "    <tr>\n",
       "      <th>1</th>\n",
       "      <td>-220020068_456249693</td>\n",
       "      <td>https://vkvideo.ru/video-220020068_456249693</td>\n",
       "      <td>Бывaeт и xyжe. 1 сезон, 14 серия</td>\n",
       "      <td>0:00:06</td>\n",
       "      <td>0:00:10</td>\n",
       "      <td>6</td>\n",
       "      <td>10</td>\n",
       "      <td>4</td>\n",
       "    </tr>\n",
       "  </tbody>\n",
       "</table>\n",
       "</div>"
      ],
      "text/plain": [
       "               video_id                                           url  \\\n",
       "1  -220020068_456249693  https://vkvideo.ru/video-220020068_456249693   \n",
       "\n",
       "                               name    start      end  start_sec  end_sec  \\\n",
       "1  Бывaeт и xyжe. 1 сезон, 14 серия  0:00:06  0:00:10          6       10   \n",
       "\n",
       "   intro_duration  \n",
       "1               4  "
      ]
     },
     "execution_count": 100,
     "metadata": {},
     "output_type": "execute_result"
    }
   ],
   "source": [
    "train_df.loc[train_df['video_id'] == video_name]"
   ]
  },
  {
   "cell_type": "code",
   "execution_count": 101,
   "id": "231551e3",
   "metadata": {},
   "outputs": [
    {
     "data": {
      "text/plain": [
       "6"
      ]
     },
     "execution_count": 101,
     "metadata": {},
     "output_type": "execute_result"
    }
   ],
   "source": [
    "train_df.loc[train_df['video_id'] == video_name]['start_sec'].values[0]"
   ]
  },
  {
   "cell_type": "code",
   "execution_count": 102,
   "id": "020da919",
   "metadata": {},
   "outputs": [],
   "source": [
    "start = train_df.loc[train_df['video_id'] == video_name]['start_sec'].values[0]\n",
    "end = train_df.loc[train_df['video_id'] == video_name]['end_sec'].values[0]\n",
    "duration = train_df.loc[train_df['video_id'] == video_name]['intro_duration'].values[0]"
   ]
  },
  {
   "cell_type": "code",
   "execution_count": 130,
   "id": "916189c8",
   "metadata": {},
   "outputs": [],
   "source": [
    "img = Image.fromarray(cv2.cvtColor(frames[4], cv2.COLOR_BGR2RGB))"
   ]
  },
  {
   "cell_type": "code",
   "execution_count": 106,
   "id": "b0c26333",
   "metadata": {},
   "outputs": [
    {
     "data": {
      "text/plain": [
       "8"
      ]
     },
     "execution_count": 106,
     "metadata": {},
     "output_type": "execute_result"
    }
   ],
   "source": [
    "len(frames)"
   ]
  },
  {
   "cell_type": "code",
   "execution_count": 117,
   "id": "9f751057",
   "metadata": {},
   "outputs": [
    {
     "data": {
      "text/plain": [
       "<matplotlib.image.AxesImage at 0x1c498e53c90>"
      ]
     },
     "execution_count": 117,
     "metadata": {},
     "output_type": "execute_result"
    },
    {
     "data": {
      "image/png": "[encoded data removed]",
      "text/plain": [
       "<Figure size 640x480 with 1 Axes>"
      ]
     },
     "metadata": {},
     "output_type": "display_data"
    }
   ],
   "source": [
    "plt.imshow(frames[1])"
   ]
  },
  {
   "cell_type": "code",
   "execution_count": 40,
   "id": "3b618f64",
   "metadata": {},
   "outputs": [
    {
     "data": {
      "text/plain": [
       "'data_train_short/-220020068_456255414/-220020068_456255414.mp4'"
      ]
     },
     "execution_count": 40,
     "metadata": {},
     "output_type": "execute_result"
    }
   ],
   "source": [
    "f\"data_train_short/{list(train_df['video_id'])[0]}/{list(train_df['video_id'])[0]}.mp4\""
   ]
  },
  {
   "cell_type": "code",
   "execution_count": 35,
   "id": "0ffe3271",
   "metadata": {},
   "outputs": [
    {
     "data": {
      "text/plain": [
       "'data_train_short/-220020068_456255414-220020068_456255414.mp4'"
      ]
     },
     "execution_count": 35,
     "metadata": {},
     "output_type": "execute_result"
    }
   ],
   "source": [
    "'data_train_short/' + list(train_df['video_id'])[0] + list(train_df['video_id'])[0] + '.mp4'"
   ]
  },
  {
   "cell_type": "code",
   "execution_count": 34,
   "id": "6f7041c4",
   "metadata": {},
   "outputs": [
    {
     "data": {
      "text/plain": [
       "['-220020068_456255414',\n",
       " '-220020068_456249693',\n",
       " '-220020068_456255339',\n",
       " '-220020068_456241755',\n",
       " '-220020068_456241671',\n",
       " '-220020068_456255340',\n",
       " '-220020068_456241756',\n",
       " '-220020068_456256016',\n",
       " '-220020068_456249732',\n",
       " '-220020068_456255332',\n",
       " '-220020068_456241672',\n",
       " '-220020068_456255341',\n",
       " '-220020068_456256475',\n",
       " '-220020068_456256013',\n",
       " '-220020068_456248657',\n",
       " '-220020068_456241673',\n",
       " '-220020068_456255402',\n",
       " '-220020068_456257139',\n",
       " '-220020068_456254621',\n",
       " '-220020068_456241758',\n",
       " '-220020068_456249739',\n",
       " '-220020068_456255403',\n",
       " '-220020068_456256012',\n",
       " '-220020068_456249716',\n",
       " '-220020068_456255389',\n",
       " '-220020068_456257141',\n",
       " '-220020068_456241851',\n",
       " '-220020068_456256571',\n",
       " '-220020068_456256019',\n",
       " '-220020068_456249720',\n",
       " '-220020068_456255344',\n",
       " '-220020068_456255405',\n",
       " '-220020068_456255391',\n",
       " '-220020068_456241844',\n",
       " '-220020068_456254282',\n",
       " '-220020068_456239859',\n",
       " '-220020068_456255346',\n",
       " '-220020068_456255392',\n",
       " '-220020068_456241845',\n",
       " '-220020068_456255766',\n",
       " '-220020068_456256003',\n",
       " '-220020068_456255393',\n",
       " '-220020068_456257136',\n",
       " '-220020068_456241846',\n",
       " '-220020068_456255767',\n",
       " '-220020068_456254537',\n",
       " '-220020068_456255394',\n",
       " '-220020068_456255409',\n",
       " '-220020068_456257137',\n",
       " '-220020068_456241847',\n",
       " '-220020068_456255773',\n",
       " '-220020068_456256005',\n",
       " '-220020068_456256868',\n",
       " '-220020068_456255349',\n",
       " '-220020068_456255395',\n",
       " '-220020068_456255410',\n",
       " '-220020068_456255779',\n",
       " '-220020068_456256893',\n",
       " '-220020068_456241682',\n",
       " '-220020068_456255396',\n",
       " '-220020068_456255411',\n",
       " '-220020068_456254614',\n",
       " '-220020068_456241849',\n",
       " '-220020068_456255780',\n",
       " '-220020068_456249667',\n",
       " '-220020068_456253855',\n",
       " '-220020068_456255412',\n",
       " '-220020068_456241850',\n",
       " '-220020068_456253876',\n",
       " '-220020068_456256430',\n",
       " '-220020068_456249692',\n",
       " '-220020068_456255338',\n",
       " '-220020068_456255407',\n",
       " '-220020068_456255399',\n",
       " '-220020068_456249719',\n",
       " '-220020068_456255400',\n",
       " '-220020068_456256446',\n",
       " '-220020068_456255401',\n",
       " '-220020068_456249733']"
      ]
     },
     "execution_count": 34,
     "metadata": {},
     "output_type": "execute_result"
    }
   ],
   "source": [
    "list(train_df['video_id'])"
   ]
  },
  {
   "cell_type": "code",
   "execution_count": 121,
   "id": "4ef37dcb",
   "metadata": {},
   "outputs": [],
   "source": [
    "data = extract_clip_features(frames)"
   ]
  },
  {
   "cell_type": "code",
   "execution_count": 122,
   "id": "23e983ca",
   "metadata": {},
   "outputs": [
    {
     "data": {
      "text/plain": [
       "8"
      ]
     },
     "execution_count": 122,
     "metadata": {},
     "output_type": "execute_result"
    }
   ],
   "source": [
    "len(data)"
   ]
  },
  {
   "cell_type": "code",
   "execution_count": 128,
   "id": "83202244",
   "metadata": {},
   "outputs": [
    {
     "data": {
      "text/plain": [
       "torch.Size([512])"
      ]
     },
     "execution_count": 128,
     "metadata": {},
     "output_type": "execute_result"
    }
   ],
   "source": [
    "data[0].size()"
   ]
  },
  {
   "cell_type": "code",
   "execution_count": 135,
   "id": "d7e57222",
   "metadata": {},
   "outputs": [
    {
     "data": {
      "text/plain": [
       "['-220020068_456239859',\n",
       " '-220020068_456241671',\n",
       " '-220020068_456241672',\n",
       " '-220020068_456241673',\n",
       " '-220020068_456241682',\n",
       " '-220020068_456241755',\n",
       " '-220020068_456241756',\n",
       " '-220020068_456241758',\n",
       " '-220020068_456241844',\n",
       " '-220020068_456241845',\n",
       " '-220020068_456241846',\n",
       " '-220020068_456241847',\n",
       " '-220020068_456241849',\n",
       " '-220020068_456241850',\n",
       " '-220020068_456241851',\n",
       " '-220020068_456248657',\n",
       " '-220020068_456249667',\n",
       " '-220020068_456249692',\n",
       " '-220020068_456249693',\n",
       " '-220020068_456249716',\n",
       " '-220020068_456249719',\n",
       " '-220020068_456249720',\n",
       " '-220020068_456249732',\n",
       " '-220020068_456249733',\n",
       " '-220020068_456249739',\n",
       " '-220020068_456252055',\n",
       " '-220020068_456253855',\n",
       " '-220020068_456253876',\n",
       " '-220020068_456254282',\n",
       " '-220020068_456254537',\n",
       " '-220020068_456254614',\n",
       " '-220020068_456254621',\n",
       " '-220020068_456255332',\n",
       " '-220020068_456255338',\n",
       " '-220020068_456255339',\n",
       " '-220020068_456255340',\n",
       " '-220020068_456255341',\n",
       " '-220020068_456255344',\n",
       " '-220020068_456255346',\n",
       " '-220020068_456255349',\n",
       " '-220020068_456255389',\n",
       " '-220020068_456255391',\n",
       " '-220020068_456255392',\n",
       " '-220020068_456255393',\n",
       " '-220020068_456255394',\n",
       " '-220020068_456255395',\n",
       " '-220020068_456255396',\n",
       " '-220020068_456255399',\n",
       " '-220020068_456255400',\n",
       " '-220020068_456255401',\n",
       " '-220020068_456255402',\n",
       " '-220020068_456255403',\n",
       " '-220020068_456255405',\n",
       " '-220020068_456255407',\n",
       " '-220020068_456255409',\n",
       " '-220020068_456255410',\n",
       " '-220020068_456255411',\n",
       " '-220020068_456255412',\n",
       " '-220020068_456255414',\n",
       " '-220020068_456255766',\n",
       " '-220020068_456255767',\n",
       " '-220020068_456255773',\n",
       " '-220020068_456255779',\n",
       " '-220020068_456255780',\n",
       " '-220020068_456256003',\n",
       " '-220020068_456256005',\n",
       " '-220020068_456256012',\n",
       " '-220020068_456256013',\n",
       " '-220020068_456256016',\n",
       " '-220020068_456256019',\n",
       " '-220020068_456256430',\n",
       " '-220020068_456256446',\n",
       " '-220020068_456256475',\n",
       " '-220020068_456256571',\n",
       " '-220020068_456256868',\n",
       " '-220020068_456256893',\n",
       " '-220020068_456257136',\n",
       " '-220020068_456257137',\n",
       " '-220020068_456257139',\n",
       " '-220020068_456257141',\n",
       " 'labels.json']"
      ]
     },
     "execution_count": 135,
     "metadata": {},
     "output_type": "execute_result"
    }
   ],
   "source": [
    "os.listdir('data_train_short')"
   ]
  },
  {
   "cell_type": "code",
   "execution_count": 138,
   "id": "3df354ad",
   "metadata": {},
   "outputs": [
    {
     "data": {
      "text/plain": [
       "2068"
      ]
     },
     "execution_count": 138,
     "metadata": {},
     "output_type": "execute_result"
    }
   ],
   "source": [
    "len(all_features)"
   ]
  },
  {
   "cell_type": "code",
   "execution_count": 141,
   "id": "111c3af5",
   "metadata": {},
   "outputs": [
    {
     "data": {
      "text/plain": [
       "2068"
      ]
     },
     "execution_count": 141,
     "metadata": {},
     "output_type": "execute_result"
    }
   ],
   "source": [
    "len(all_labels)"
   ]
  },
  {
   "cell_type": "code",
   "execution_count": null,
   "id": "0cecf7ae",
   "metadata": {},
   "outputs": [],
   "source": []
  }
 ],
 "metadata": {
  "kernelspec": {
   "display_name": "Python 3",
   "language": "python",
   "name": "python3"
  },
  "language_info": {
   "codemirror_mode": {
    "name": "ipython",
    "version": 3
   },
   "file_extension": ".py",
   "mimetype": "text/x-python",
   "name": "python",
   "nbconvert_exporter": "python",
   "pygments_lexer": "ipython3",
   "version": "3.11.6"
  }
 },
 "nbformat": 4,
 "nbformat_minor": 5
}
